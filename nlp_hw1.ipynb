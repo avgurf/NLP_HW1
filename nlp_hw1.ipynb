{
 "cells": [
  {
   "cell_type": "markdown",
   "metadata": {},
   "source": [
    "#                                      NLP - Assignment 1    "
   ]
  },
  {
   "cell_type": "code",
   "execution_count": 2,
   "metadata": {
    "collapsed": false
   },
   "outputs": [
    {
     "data": {
      "text/plain": [
       "<CategorizedTaggedCorpusReader in '/home/noam/nltk_data/corpora/brown'>"
      ]
     },
     "execution_count": 2,
     "metadata": {},
     "output_type": "execute_result"
    }
   ],
   "source": [
    "# find brown corpus library:\n",
    "import nltk\n",
    "nltk.corpus.brown"
   ]
  },
  {
   "cell_type": "code",
   "execution_count": 3,
   "metadata": {
    "collapsed": true
   },
   "outputs": [],
   "source": [
    "# Brown corpus path - /home/noam/nltk_data/corpora/brown'"
   ]
  },
  {
   "cell_type": "code",
   "execution_count": 4,
   "metadata": {
    "collapsed": false
   },
   "outputs": [],
   "source": [
    "import google3 as g\n",
    "import nltk\n",
    "# google() returns a dictionary, with 10 keys, each an url for a search result. Each associated value holds a tuple\n",
    "# of length 3. First element is raw html, seconed is raw cleaned text, and third is a tokenized list of words. \n",
    "search_string = \"Natural language processing\"\n",
    "results = g.google(search_string)\n",
    "# AnalyzeResults() Writes search results to files, in a directory called Data. it creates two text files for each \n",
    "# resulting url, one for the raw text, and one for the list of tokenized words. \n",
    "g.AnalyzeResults(results)"
   ]
  },
  {
   "cell_type": "code",
   "execution_count": 5,
   "metadata": {
    "collapsed": false
   },
   "outputs": [],
   "source": [
    "text = open(\"Data/Raw-0.txt\", 'r').read()\n",
    "tokenized_text = nltk.word_tokenize(text)\n",
    "## TODO: What is best pos_tagger?\n",
    "word_tag_list = nltk.pos_tag(tokenized_text, tagset='universal')\n",
    "# word_tag_list if a list of tuples of length 2, with (word, Tag)"
   ]
  },
  {
   "cell_type": "code",
   "execution_count": 6,
   "metadata": {
    "collapsed": false
   },
   "outputs": [],
   "source": [
    "# In order to add the resulting tagged text to the brown corpus, we must change it to the form:\n",
    "# /n/n/t word1/tag1 word2/tag2 ...\n"
   ]
  },
  {
   "cell_type": "code",
   "execution_count": 7,
   "metadata": {
    "collapsed": false
   },
   "outputs": [],
   "source": [
    "for i in range(len(word_tag_list)): \n",
    "    if (word_tag_list[i] == ('.','.') or word_tag_list[i] == ('?','.') ): \n",
    "        word_tag_list.insert(i+1, ('\\n\\n\\n\\t',\"\"))\n",
    "        i += 2\n",
    "\n",
    "# Merge all couples to form ['word1/tag1', 'word2/tag2' ...]\n",
    "wordtag_list = [word + \"/\" + tag for (word, tag) in word_tag_list]\n",
    "# Remove '/' at sentance start:\n",
    "for i in range(len(wordtag_list)): \n",
    "    if wordtag_list[i] == '\\n\\n\\n\\t/':\n",
    "        wordtag_list[i] = '\\n\\n\\n\\t'"
   ]
  },
  {
   "cell_type": "code",
   "execution_count": 8,
   "metadata": {
    "collapsed": false
   },
   "outputs": [],
   "source": [
    "wordtag_joined = \" \".join(wordtag_list)\n",
    "\n"
   ]
  },
  {
   "cell_type": "code",
   "execution_count": 9,
   "metadata": {
    "collapsed": false
   },
   "outputs": [
    {
     "name": "stdout",
     "output_type": "stream",
     "text": [
      "By/ADP submitting/VERB my/PRON Email/NOUN address/NOUN I/PRON confirm/VERB that/ADP I/PRON have/VERB read/VERB and/CONJ accepted/VERB the/DET Terms/NOUN of/ADP Use/NOUN and/CONJ Declaration/NOUN of/ADP Consent/NOUN ./. \n",
      "\n",
      "\n",
      "\t By/ADP submitting/VERB your/PRON email/NOUN address/NOUN ,/. you/PRON agree/VERB to/PRT receive/VERB emails/NOUN regarding/VERB relevant/ADJ topic/NOUN offers/NOUN from/ADP TechTarget/NOUN and/CONJ its/PRON partners/NOUN ./. \n",
      "\n",
      "\n",
      "\t You/PRON can/VERB withdraw/VERB your/PRON consent/NOUN at/ADP any/DET time/NOUN ./. \n",
      "\n",
      "\n",
      "\t Contact/VERB TechTarget/NOUN at/ADP 275/NUM Grove/NOUN Street/NOUN ,/. Newton/NOUN ,/. MA/NOUN ./. \n",
      "\n",
      "\n",
      "\t You/PRON also/ADV agree/VERB that/ADP your/PRON personal/ADJ information/NOUN may/VERB be/VERB transferred/VERB and/CONJ processed/VERB in/ADP the/DET United/NOUN States/NOUN ,/. and/CONJ that/ADP you/PRON have/VERB read/VERB and/CONJ agree/VERB to/PRT the/DET Terms/NOUN of/ADP Use/NOUN and/CONJ the/DET Privacy/NOUN Policy/NOUN ./. \n",
      "\n",
      "\n",
      "\t The/DET development/NOUN of/ADP NLP/NOUN applications/NOUN is/VERB challenging/VERB because/ADP computers/NOUN traditionally/ADV require/VERB humans/NOUN to/PRT “speak”/VERB to/PRT them/PRON in/ADP a/DET programming/NOUN language/NOUN that/DET is/VERB precise/ADJ ,/. unambiguous/ADJ and/CONJ highly/ADV structured/VERB or/CONJ ,/. perhaps/ADV through/ADP a/DET limited/ADJ number/NOUN of/ADP clearly-enunciated/ADJ voice/NOUN commands/NOUN ./. \n",
      "\n",
      "\n",
      "\t Human/NOUN speech/NOUN ,/. however/ADV ,/. is/VERB not/ADV always/ADV precise/VERB --/. it/PRON is/VERB often/ADV ambiguous/ADJ and/CONJ the/DET linguistic/ADJ structure/NOUN can/VERB depend/VERB on/ADP many/ADJ complex/ADJ variables/NOUN ,/. including/VERB slang/NOUN ,/. regional/ADJ dialects/NOUN and/CONJ social/ADJ context/NOUN ./. \n",
      "\n",
      "\n",
      "\t Current/ADJ approaches/NOUN to/PRT NLP/NOUN are/VERB based/VERB on/ADP machine/NOUN learning/NOUN ,/. a/DET type/NOUN of/ADP artificial/ADJ intelligence/NOUN that/ADP examines/NOUN and/CONJ uses/VERB patterns/NOUN in/ADP data/NOUN to/PRT improve/VERB a/DET program/NOUN 's/PRT own/ADJ understanding/NOUN ./. \n",
      "\n",
      "\n",
      "\t Most/ADJ of/ADP the/DET research/NOUN being/VERB done/VERB on/ADP natural/ADJ language/NOUN processing/NOUN revolves/VERB around/ADP search/NOUN ,/. especially/ADV enterprise/ADJ search/NOUN ./. \n",
      "\n",
      "\n",
      "\t The/DET advantage/NOUN of/ADP natural/ADJ language/NOUN processing/NOUN can/VERB be/VERB seen/VERB when/ADV considering/VERB the/DET following/VERB two/NUM statements/NOUN :/. ``/. Cloud/NOUN computing/VERB insurance/NOUN should/VERB be/VERB part/NOUN of/ADP every/DET service/NOUN level/NOUN agreement/NOUN ''/. and/CONJ ``/. A/DET good/ADJ SLA/NOUN ensures/VERB an/DET easier/ADJ night/NOUN 's/PRT sleep/NOUN --/. even/ADV in/ADP the/DET cloud/NOUN ./. \n",
      "\n",
      "\n",
      "\t ''/. If/ADP you/PRON use/VERB national/ADJ language/NOUN processing/NOUN for/ADP search/NOUN ,/. the/DET program/NOUN will/VERB recognise/VERB that/DET cloud/NOUN computing/NOUN is/VERB an/DET entity/NOUN ,/. that/ADP cloud/NOUN is/VERB an/DET abbreviated/ADJ form/NOUN of/ADP cloud/NOUN computing/NOUN and/CONJ that/DET SLA/NOUN is/VERB an/DET industry/NOUN acronym/NOUN for/ADP service/NOUN level/NOUN agreement/NOUN ./. \n",
      "\n",
      "\n",
      "\t The/DET ultimate/ADJ goal/NOUN of/ADP NLP/NOUN is/VERB to/PRT do/VERB away/ADV with/ADP computer/NOUN programming/VERB languages/NOUN altogether/ADV ./. \n",
      "\n",
      "\n",
      "\t Instead/ADV of/ADP specialized/ADJ languages/NOUN such/ADJ as/ADP Java/NOUN or/CONJ Ruby/NOUN or/CONJ C/NOUN ,/. there/DET would/VERB only/ADV be/VERB ``/. human/ADJ ./. \n",
      "\n",
      "\n",
      "\t ''/. 0/NUM comments/NOUN E-Mail/ADJ Username/NOUN //NOUN Password/NOUN Password/NOUN By/ADP submitting/VERB you/PRON agree/VERB to/PRT receive/VERB email/NOUN from/ADP TechTarget/NOUN and/CONJ its/PRON partners/NOUN ./. \n",
      "\n",
      "\n",
      "\t If/ADP you/PRON reside/VERB outside/ADP of/ADP the/DET United/NOUN States/NOUN ,/. you/PRON consent/VERB to/PRT having/VERB your/PRON personal/ADJ data/NOUN transferred/VERB to/PRT and/CONJ processed/VERB in/ADP the/DET United/NOUN States/NOUN ./. Privacy/NOUN\n"
     ]
    }
   ],
   "source": [
    "print(wordtag_joined)"
   ]
  },
  {
   "cell_type": "markdown",
   "metadata": {},
   "source": [
    "\n",
    "\n",
    "\n",
    "\n",
    "## 1.1.2 Gathering Basic Statistics\n"
   ]
  },
  {
   "cell_type": "markdown",
   "metadata": {},
   "source": [
    "#### Write a function that plots the number of words having a given number of tags. The X-axis should show the number of tags and the Y-axis the number of words having exactly this number of tags."
   ]
  },
  {
   "cell_type": "code",
   "execution_count": 10,
   "metadata": {
    "collapsed": true
   },
   "outputs": [],
   "source": [
    "from collections import defaultdict\n",
    "from nltk.corpus import brown"
   ]
  },
  {
   "cell_type": "code",
   "execution_count": 11,
   "metadata": {
    "collapsed": false
   },
   "outputs": [],
   "source": [
    "# Return dict: key -> word, dict[word] -> list of distinct tags for word. \n",
    "def map_word2tags(tagged_words_list):\n",
    "    # Create dictionary with key:word value: list of possible tags. \n",
    "    word_tags = defaultdict(lambda: [])\n",
    "    for (word, tag) in tagged_words_list: \n",
    "        if tag not in word_tags[word]:\n",
    "            word_tags[word] += [tag]\n",
    "    return word_tags\n",
    "\n",
    "# Return a list of (num_words, num_tags)\n",
    "def num_words_with_x_tags(debug=1):\n",
    "    # Get list of all tagged words with largest tagset. \n",
    "#     tagged_words_list = brown.tagged_words(tagset='universal')\n",
    "    tagged_words_list = brown.tagged_words()\n",
    "    words = set(brown.words())\n",
    "    word_tags = map_word2tags(tagged_words_list)\n",
    "    # Dictionary mapping word with i tags \n",
    "    map_words_tags = defaultdict(lambda: 0)\n",
    "    for word in word_tags: \n",
    "        map_words_tags[len(word_tags[word])] +=1\n",
    "    \n",
    "    if debug:\n",
    "#         for word in map_words_tags: \n",
    "#             print(\"There are \", map_words_tags[word], \"words, with \", word, \"tags. \\n\")\n",
    "            print(list((index, map_words_tags[index]) for index in map_words_tags))\n",
    "    "
   ]
  },
  {
   "cell_type": "code",
   "execution_count": 12,
   "metadata": {
    "collapsed": false
   },
   "outputs": [
    {
     "name": "stdout",
     "output_type": "stream",
     "text": [
      "[(1, 47328), (2, 7186), (3, 1146), (4, 265), (5, 87), (6, 27), (7, 12), (8, 1), (9, 1), (10, 2), (11, 1), (12, 1)]\n"
     ]
    }
   ],
   "source": [
    "words_wnt = num_words_with_x_tags()"
   ]
  },
  {
   "cell_type": "code",
   "execution_count": 13,
   "metadata": {
    "collapsed": true
   },
   "outputs": [],
   "source": [
    "%matplotlib inline\n",
    "\n",
    "def display():\n",
    "    import pylab\n",
    "    words_by_freq = num_words_with_x_tags()\n",
    "    cfd = nltk.ConditionalFreqDist(brown.tagged_words(categories='news'))\n",
    "    sizes = 2 * pylab.arange(15)\n",
    "    perfs = words_by_freq\n",
    "    pylab.plot(sizes, perfs, '-bo')\n",
    "    pylab.title('Lookup Tagger Performance with Varying Model Size')\n",
    "    pylab.xlabel('Model Size')\n",
    "    pylab.ylabel('Performance')\n",
    "    pylab.show()\n",
    "\n",
    "    \n",
    "def display2():\n",
    "    import matplotlib.pyplot as plt\n",
    "    default_tagset_mapping = [(1, 47328), (2, 7186), (3, 1146), (4, 265), (5, 87), (6, 27), (7, 12), (8, 1), (9, 1), (10, 2), (11, 1), (12, 1)]\n",
    "    universal_tagset_mapping = [(1, 52454), (2, 3334), (3, 231), (4, 32), (5, 6)]\n",
    "    plt.plot([x for (x,y) in universal_tagset_mapping], [y for (x,y) in universal_tagset_mapping])\n",
    "    plt.axis([0, 13, 0, 55000])\n",
    "    plt.xlabel('X - Number of tags')\n",
    "    plt.ylabel('Y - Number of words with X tags')\n",
    "    plt.title('Universal tagset')\n",
    "    plt.show()\n",
    "    \n",
    "    plt.plot([x for (x,y) in default_tagset_mapping], [y for (x,y) in default_tagset_mapping])\n",
    "    plt.axis([0, 13, 0, 55000])\n",
    "    plt.xlabel('X - Number of tags')\n",
    "    plt.ylabel('Y - Number of words with X tags')\n",
    "    plt.title('Default tagset')\n",
    "    plt.show()\n",
    "    \n",
    "    uni_x = [x for (x,y) in universal_tagset_mapping]\n",
    "    uni_y = [y for (x,y) in universal_tagset_mapping]\n",
    "    \n",
    "    def_x = [x for (x,y) in default_tagset_mapping]\n",
    "    def_y = [y for (x,y) in default_tagset_mapping]\n",
    "    plt.plot(uni_x, uni_y, 'b', def_x, def_y, 'g' )    "
   ]
  },
  {
   "cell_type": "code",
   "execution_count": 14,
   "metadata": {
    "collapsed": false
   },
   "outputs": [
    {
     "data": {
      "image/png": "[encoded data removed]",
      "text/plain": [
       "<matplotlib.figure.Figure at 0x7fa62e2cb588>"
      ]
     },
     "metadata": {},
     "output_type": "display_data"
    },
    {
     "data": {
      "image/png": "[encoded data removed]",
      "text/plain": [
       "<matplotlib.figure.Figure at 0x7fa62d4e3b70>"
      ]
     },
     "metadata": {},
     "output_type": "display_data"
    },
    {
     "data": {
      "image/png": "[encoded data removed]",
      "text/plain": [
       "<matplotlib.figure.Figure at 0x7fa62e0c4048>"
      ]
     },
     "metadata": {},
     "output_type": "display_data"
    }
   ],
   "source": [
    "display2()"
   ]
  },
  {
   "cell_type": "markdown",
   "metadata": {},
   "source": [
    "#### Write a Python function that finds words with more than N observed tags. The function should return a ConditionalFreqDist object where the conditions are the words and the frequency distribution indicates the tag frequencies for each word."
   ]
  },
  {
   "cell_type": "code",
   "execution_count": 15,
   "metadata": {
    "collapsed": true
   },
   "outputs": [],
   "source": [
    "def words_w_N_tags(tag_num):\n",
    "    # Get list of (word, tag) for all words in corpus. \n",
    "    tagged_words_list = brown.tagged_words(tagset='universal')\n",
    "    # Create dictionary with list of distinct tags for each word. \n",
    "    unique_tags_word = map_word2tags(tagged_words_list)\n",
    "    # Filter out words with less than tag_num unique tags. return list of words. \n",
    "    words_w_n_unique_tags = [ w for w in unique_tags_word  if len(unique_tags_word[w]) >= tag_num]\n",
    "    # Iterate through all pairs of tagged words and filter out all words with less than tag_num unique tags. \n",
    "    data = [(w, t) for (w, t) in tagged_words_list if w in words_w_n_unique_tags ]\n",
    "    cfd = nltk.ConditionalFreqDist(data)    \n",
    "    return cfd"
   ]
  },
  {
   "cell_type": "markdown",
   "metadata": {},
   "source": [
    "Now we can run words_w_N_tags to see the frequency of each returned flag, with different tags as conditions.  \n",
    "We can use the tabulate() and plot() functions to see what kind of information is returned and if it makes any sense.\n"
   ]
  },
  {
   "cell_type": "code",
   "execution_count": 16,
   "metadata": {
    "collapsed": false
   },
   "outputs": [
    {
     "name": "stdout",
     "output_type": "stream",
     "text": [
      "       ADJ  ADP  ADV  DET NOUN PRON  PRT VERB    X \n",
      " damn   13    0    1    0    4    0    3    6    0 \n",
      " down    1  190    0    0    1    0  694    2    0 \n",
      "round   28    4   14    0   18    0    0    6    0 \n",
      " that    0 6422   54 1981    0 1779    0    0    1 \n",
      "   to    0 10985    1    0    1    0 14742    0    3 \n",
      " well   14    0  700    0   17    0   22    4    0 \n"
     ]
    },
    {
     "data": {
      "image/png": "[encoded data removed]",
      "text/plain": [
       "<matplotlib.figure.Figure at 0x7fa62ddca7f0>"
      ]
     },
     "metadata": {},
     "output_type": "display_data"
    }
   ],
   "source": [
    "cfd = words_w_N_tags(5)\n",
    "cfd.tabulate()\n",
    "cfd.plot()"
   ]
  },
  {
   "cell_type": "markdown",
   "metadata": {
    "collapsed": true
   },
   "source": [
    "#### Write a test function that verifies that the words indeed have more than N distinct tags in the returned value."
   ]
  },
  {
   "cell_type": "code",
   "execution_count": 17,
   "metadata": {
    "collapsed": false
   },
   "outputs": [
    {
     "ename": "NameError",
     "evalue": "name 'words_w_N_tas' is not defined",
     "output_type": "error",
     "traceback": [
      "\u001b[1;31m---------------------------------------------------------------------------\u001b[0m",
      "\u001b[1;31mNameError\u001b[0m                                 Traceback (most recent call last)",
      "\u001b[1;32m<ipython-input-17-2d9fecd99405>\u001b[0m in \u001b[0;36m<module>\u001b[1;34m()\u001b[0m\n\u001b[0;32m      1\u001b[0m \u001b[0mN\u001b[0m\u001b[1;33m=\u001b[0m\u001b[1;36m5\u001b[0m\u001b[1;33m\u001b[0m\u001b[0m\n\u001b[1;32m----> 2\u001b[1;33m \u001b[0mcfd\u001b[0m \u001b[1;33m=\u001b[0m \u001b[0mwords_w_N_tas\u001b[0m\u001b[1;33m(\u001b[0m\u001b[0mN\u001b[0m\u001b[1;33m)\u001b[0m\u001b[1;33m\u001b[0m\u001b[0m\n\u001b[0m\u001b[0;32m      3\u001b[0m \u001b[1;33m\u001b[0m\u001b[0m\n\u001b[0;32m      4\u001b[0m \u001b[1;31m# TODO: what function should do exactly, what return, check vs original brown.tagged_words? add N -> %\u001b[0m\u001b[1;33m\u001b[0m\u001b[1;33m\u001b[0m\u001b[0m\n\u001b[0;32m      5\u001b[0m \u001b[1;32mdef\u001b[0m \u001b[0mverify_n_tags\u001b[0m\u001b[1;33m(\u001b[0m\u001b[0mcfd\u001b[0m\u001b[1;33m,\u001b[0m \u001b[0mn\u001b[0m\u001b[1;33m)\u001b[0m\u001b[1;33m:\u001b[0m\u001b[1;33m\u001b[0m\u001b[0m\n",
      "\u001b[1;31mNameError\u001b[0m: name 'words_w_N_tas' is not defined"
     ]
    }
   ],
   "source": [
    "N=5\n",
    "cfd = words_w_N_tas(N)\n",
    "\n",
    "# TODO: what function should do exactly, what return, check vs original brown.tagged_words? add N -> %\n",
    "def verify_n_tags(cfd, n):\n",
    "    msg = \"All words have N categories or more.\"\n",
    "    for word in cfd:\n",
    "        l = [x for x in cfd[word].keys() if cfd[word][x] > 0]\n",
    "        if len(l) < n: \n",
    "            msg = \"Not all words have N categories or more. \"\n",
    "            continue\n",
    "    print(msg)\n",
    "\n"
   ]
  },
  {
   "cell_type": "code",
   "execution_count": null,
   "metadata": {
    "collapsed": false
   },
   "outputs": [],
   "source": [
    "verify_n_tags(cfd, N)"
   ]
  },
  {
   "cell_type": "markdown",
   "metadata": {},
   "source": [
    "#### Write a function that given a word, finds one example of usage of the word with each of the different tags in which it can occur."
   ]
  },
  {
   "cell_type": "code",
   "execution_count": 44,
   "metadata": {
    "collapsed": false
   },
   "outputs": [],
   "source": [
    "def print_sentence(sent, word, tag):\n",
    "    print(sent)\n",
    "#     abc = \"abcdefghijklmnopqrstuvwxyzABCDEFJHIJKLMNOPQRSTUVWXYZ\"\n",
    "# #     for i in range(len(sent)):\n",
    "# #         if sent[i][1] not in abc:\n",
    "# #             sent[i-1] = (str(sent[i-1][0]) + str(sent[i][0]), sent[i-1][1])\n",
    "# #             del sent[i-1]\n",
    "# #             i += 1\n",
    "#     words = [ word for (word, tag) in sent ]\n",
    "#     sent_str = \" \".join(words)\n",
    "#     print(sent_str)          \n",
    "    words = [word for (word, tag) in sent]\n",
    "    sent_str = \" \".join(words)\n",
    "    sent_str = sent_str.replace(' .', '.')\n",
    "    sent_str = sent_str = sent_str.replace(' ,', '.')\n",
    "    sent_str = sent_str.replace(' ?', '?')\n",
    "    sent_str = sent_str.replace(' !', '!')\n",
    "    sent_str = sent_str.replace(' :', ':')\n",
    "    sent_str = sent_str.replace(' ;', ';')\n",
    "    print(\"Word: \", word, \"with tag: \", tag, '\\n', sent_str,'\\n')\n",
    "    \n",
    "#     twords = [word for word in untag(sent)]\n",
    "    print(\" \".join(twords))\n",
    "    \n",
    "def use_example(word):\n",
    "    words2unique_tags = map_word2tags(brown.tagged_words())\n",
    "    list_of_unique_tags = words2unique_tags[word]\n",
    "    sents = brown.tagged_sents()\n",
    "    for tag in list_of_unique_tags: \n",
    "        index = 0\n",
    "        for sent in sents:\n",
    "            index += 1\n",
    "            if (word, tag) in sent:\n",
    "                print_sentence(sent, word, tag)\n",
    "                break\n",
    "                \n",
    "def showExamples(word, cfd, corpus):\n",
    "    words2unique_tags = map_word2tags(brown.tagged_words())\n",
    "    list_of_unique_tags = words2unique_tags[word]\n",
    "    sents = brown.tagged_sents()\n",
    "    for tag in list_of_unique_tags: \n",
    "        index = 0\n",
    "        for sent in sents:\n",
    "            index += 1\n",
    "            if (word, tag) in sent:\n",
    "                print_sentence(sent, word, tag)\n",
    "                break\n",
    "                "
   ]
  },
  {
   "cell_type": "code",
   "execution_count": 45,
   "metadata": {
    "collapsed": false
   },
   "outputs": [
    {
     "name": "stdout",
     "output_type": "stream",
     "text": [
      "[('A', 'AT'), ('fellow', 'NN'), ('came', 'VBD'), ('up', 'RP'), ('to', 'IN'), ('me', 'PPO'), (',', ','), ('a', 'AT'), ('Senator', 'NN-TL'), (',', ','), ('I', 'PPSS'), (\"don't\", 'DO*'), ('have', 'HV'), ('to', 'TO'), ('tell', 'VB'), ('you', 'PPO'), ('his', 'PP$'), ('name', 'NN'), (',', ','), ('and', 'CC'), ('he', 'PPS'), ('told', 'VBD'), ('me', 'PPO'), (',', ','), (\"'\", \"'\"), ('I', 'PPSS'), ('love', 'VB'), ('the', 'AT'), ('President', 'NN-TL'), ('like', 'CS'), ('a', 'AT'), ('brother', 'NN'), (',', ','), ('but', 'CC'), ('God', 'NP'), ('damn', 'VB'), ('it', 'PPO'), (',', ','), (\"he's\", 'PPS+BEZ'), ('crucifying', 'VBG'), ('me', 'PPO'), ('.', '.')]\n",
      "Word:  damn with tag:  VB \n",
      " A fellow came up to me. a Senator. I don't have to tell you his name. and he told me. ' I love the President like a brother. but God damn it. he's crucifying me. \n",
      "\n"
     ]
    },
    {
     "ename": "NameError",
     "evalue": "name 'untag' is not defined",
     "output_type": "error",
     "traceback": [
      "\u001b[1;31m---------------------------------------------------------------------------\u001b[0m",
      "\u001b[1;31mNameError\u001b[0m                                 Traceback (most recent call last)",
      "\u001b[1;32m<ipython-input-45-9f5883919f06>\u001b[0m in \u001b[0;36m<module>\u001b[1;34m()\u001b[0m\n\u001b[1;32m----> 1\u001b[1;33m \u001b[0muse_example\u001b[0m\u001b[1;33m(\u001b[0m\u001b[1;34m'damn'\u001b[0m\u001b[1;33m)\u001b[0m\u001b[1;33m\u001b[0m\u001b[0m\n\u001b[0m",
      "\u001b[1;32m<ipython-input-44-a95aa2e08acc>\u001b[0m in \u001b[0;36muse_example\u001b[1;34m(word)\u001b[0m\n\u001b[0;32m     32\u001b[0m             \u001b[0mindex\u001b[0m \u001b[1;33m+=\u001b[0m \u001b[1;36m1\u001b[0m\u001b[1;33m\u001b[0m\u001b[0m\n\u001b[0;32m     33\u001b[0m             \u001b[1;32mif\u001b[0m \u001b[1;33m(\u001b[0m\u001b[0mword\u001b[0m\u001b[1;33m,\u001b[0m \u001b[0mtag\u001b[0m\u001b[1;33m)\u001b[0m \u001b[1;32min\u001b[0m \u001b[0msent\u001b[0m\u001b[1;33m:\u001b[0m\u001b[1;33m\u001b[0m\u001b[0m\n\u001b[1;32m---> 34\u001b[1;33m                 \u001b[0mprint_sentence\u001b[0m\u001b[1;33m(\u001b[0m\u001b[0msent\u001b[0m\u001b[1;33m,\u001b[0m \u001b[0mword\u001b[0m\u001b[1;33m,\u001b[0m \u001b[0mtag\u001b[0m\u001b[1;33m)\u001b[0m\u001b[1;33m\u001b[0m\u001b[0m\n\u001b[0m\u001b[0;32m     35\u001b[0m                 \u001b[1;32mbreak\u001b[0m\u001b[1;33m\u001b[0m\u001b[0m\n\u001b[0;32m     36\u001b[0m \u001b[1;33m\u001b[0m\u001b[0m\n",
      "\u001b[1;32m<ipython-input-44-a95aa2e08acc>\u001b[0m in \u001b[0;36mprint_sentence\u001b[1;34m(sent, word, tag)\u001b[0m\n\u001b[0;32m     20\u001b[0m     \u001b[0mprint\u001b[0m\u001b[1;33m(\u001b[0m\u001b[1;34m\"Word: \"\u001b[0m\u001b[1;33m,\u001b[0m \u001b[0mword\u001b[0m\u001b[1;33m,\u001b[0m \u001b[1;34m\"with tag: \"\u001b[0m\u001b[1;33m,\u001b[0m \u001b[0mtag\u001b[0m\u001b[1;33m,\u001b[0m \u001b[1;34m'\\n'\u001b[0m\u001b[1;33m,\u001b[0m \u001b[0msent_str\u001b[0m\u001b[1;33m,\u001b[0m\u001b[1;34m'\\n'\u001b[0m\u001b[1;33m)\u001b[0m\u001b[1;33m\u001b[0m\u001b[0m\n\u001b[0;32m     21\u001b[0m \u001b[1;33m\u001b[0m\u001b[0m\n\u001b[1;32m---> 22\u001b[1;33m     \u001b[0mtwords\u001b[0m \u001b[1;33m=\u001b[0m \u001b[1;33m[\u001b[0m\u001b[0mword\u001b[0m \u001b[1;32mfor\u001b[0m \u001b[0mword\u001b[0m \u001b[1;32min\u001b[0m \u001b[0muntag\u001b[0m\u001b[1;33m(\u001b[0m\u001b[0msent\u001b[0m\u001b[1;33m)\u001b[0m\u001b[1;33m]\u001b[0m\u001b[1;33m\u001b[0m\u001b[0m\n\u001b[0m\u001b[0;32m     23\u001b[0m     \u001b[0mprint\u001b[0m\u001b[1;33m(\u001b[0m\u001b[1;34m\" \"\u001b[0m\u001b[1;33m.\u001b[0m\u001b[0mjoin\u001b[0m\u001b[1;33m(\u001b[0m\u001b[0mtwords\u001b[0m\u001b[1;33m)\u001b[0m\u001b[1;33m)\u001b[0m\u001b[1;33m\u001b[0m\u001b[0m\n\u001b[0;32m     24\u001b[0m \u001b[1;33m\u001b[0m\u001b[0m\n",
      "\u001b[1;31mNameError\u001b[0m: name 'untag' is not defined"
     ]
    }
   ],
   "source": [
    "use_example('damn')"
   ]
  },
  {
   "cell_type": "markdown",
   "metadata": {
    "collapsed": true
   },
   "source": [
    "## 1.2 Unigram and Affix Tagger"
   ]
  },
  {
   "cell_type": "markdown",
   "metadata": {},
   "source": [
    "For this task, split the Brown corpus in 3 parts: training set is the first 80% of the sentences; development set the next 10%; "
   ]
  },
  {
   "cell_type": "code",
   "execution_count": 158,
   "metadata": {
    "collapsed": true
   },
   "outputs": [],
   "source": [
    "tagged_sentences= nltk.corpus.brown.tagged_sents()\n",
    "percent_80 = int(0.8*len(tagged_sentances))\n",
    "percent_10 = int(0.1*len(tagged_sentances))\n",
    "train_set = tagged_sentences[:percent_80] #First 80% of corpus.\n",
    "develop_set = tagged_sentences[percent_80 : percent_80 + percent_10 ] #10% of corpus. \n",
    "test_set = tagged_sentences[percent_80 + percent_10:] #10% of corpus."
   ]
  },
  {
   "cell_type": "markdown",
   "metadata": {},
   "source": [
    "When trying to approach this question, We were met with some difficulty. For starts, looking for the unigram tagger source code (Our's should be shorter...), turned out to be counter intuitive. Nltk documentation (at least at this stage), still alludes us. \n",
    "\n",
    "The seconed hardship, was met while reading the code. We expected the Unigram tagger to be more basic than the Ngram. \n",
    "\n",
    "A few hours of our lives were also wasted (invested!) in "
   ]
  },
  {
   "cell_type": "code",
   "execution_count": 154,
   "metadata": {
    "collapsed": false
   },
   "outputs": [],
   "source": [
    "from nltk.tag.api import TaggerI\n",
    "from collections import defaultdict\n",
    "from nltk import FreqDist, ConditionalFreqDist\n",
    "# TODO: 1) what doues tagger expect? 1 word, sequence? what should return? \n",
    "#       2) why third tuple argument? \"None\"\n",
    "class SimpleUnigramTagger(TaggerI):\n",
    "    \"\"\"\n",
    "    A simple uni (one word) tagger, implementing minimum functionlatiy.  \n",
    "    Will recieve a training data set, of tuples (word_i, tag). \n",
    "    \n",
    "    \n",
    "    A processing interface for assigning a tag to each token in a list.\n",
    "    Tags are case sensitive strings that identify some property of each\n",
    "    token, such as its part of speech or its sense.\n",
    "\n",
    "    Some taggers require specific types for their tokens.  This is\n",
    "    generally indicated by the use of a sub-interface to ``TaggerI``.\n",
    "    For example, featureset taggers, which are subclassed from\n",
    "    ``FeaturesetTagger``, require that each token be a ``featureset``.\n",
    "\n",
    "    Subclasses must define:\n",
    "      - either ``tag()`` or ``tag_sents()`` (or both)\n",
    "    \"\"\"\n",
    "    \n",
    "    def __init__(self, training_data = None, model = None):\n",
    "        \n",
    "        self._check_params(training_data, model)\n",
    "        if training_data:\n",
    "            self._train(training_data)\n",
    "            \n",
    "    # Return = dict, mapping: word --> tag, \n",
    "    # Each known word will receive it's most common tag. \n",
    "    # Unkwon words will be tagged 'None'. \n",
    "    # Function expects list of tuples (word, tag). \n",
    "    def _train(self, training_data):\n",
    "        # Create conditional freq dist, mapping each word to all it's tags. \n",
    "        cfd = ConditionalFreqDist()\n",
    "        for sentence in training_data: \n",
    "            for word, tag in sentence: \n",
    "                cfd[word][tag] += 1\n",
    "        self.cfd = cfd\n",
    "    \n",
    "    def tag_or_none(self, token):\n",
    "            if token in self.cfd:\n",
    "                return self.cfd[token].max()\n",
    "            else:\n",
    "                return None\n",
    "            \n",
    "    def tag(self, tokens):\n",
    "        \"\"\"\n",
    "        Determine the most appropriate tag sequence for the given\n",
    "        token sequence, and return a corresponding list of tagged\n",
    "        tokens.  A tagged token is encoded as a tuple ``(token, tag)``.\n",
    "        \n",
    "        :rtype: list(tuple(str, str))\n",
    "        \n",
    "        \"\"\"\n",
    "            \n",
    "        return [(tok, self.tag_or_none(tok)) for tok in tokens]\n",
    "    \n",
    "    \n",
    "    def tag_sents(self, sentences):\n",
    "        \"\"\"\n",
    "        Apply ``self.tag()`` to each element of *sentences*.  I.e.:\n",
    "\n",
    "            return [self.tag(sent) for sent in sentences]\n",
    "        \"\"\"\n",
    "        return [self.tag(sent) for sent in sentences]"
   ]
  },
  {
   "cell_type": "code",
   "execution_count": 155,
   "metadata": {
    "collapsed": false
   },
   "outputs": [],
   "source": []
  },
  {
   "cell_type": "code",
   "execution_count": 156,
   "metadata": {
    "collapsed": true
   },
   "outputs": [],
   "source": [
    "t1 = nltk.UnigramTagger(train_set)\n",
    "t = SimpleUnigramTagger(train_set)\n",
    "\n"
   ]
  },
  {
   "cell_type": "code",
   "execution_count": null,
   "metadata": {
    "collapsed": false
   },
   "outputs": [],
   "source": []
  },
  {
   "cell_type": "code",
   "execution_count": 157,
   "metadata": {
    "collapsed": false
   },
   "outputs": [
    {
     "name": "stdout",
     "output_type": "stream",
     "text": [
      "Our new tagger:  [[(('He', 'PPS'), None), (('was', 'BEDZ'), None), (('about', 'RB'), None), (('50', 'CD'), None), (('years', 'NNS'), None), (('old', 'JJ'), None), (('.', '.'), None)], [(('``', '``'), None), (('Another', 'DT'), None), (('young', 'JJ'), None), (('man', 'NN'), None), ((',', ','), None), (('my', 'PP$'), None), (('dear', 'NN'), None), (('?', '.'), None), (('?', '.'), None)], [(('Really', 'RB'), None), ((',', ','), None), (('you', 'PPSS'), None), (('are', 'BER'), None), (('most', 'QL'), None), (('indiscreet', 'JJ'), None), (('to', 'TO'), None), (('drive', 'VB'), None), (('him', 'PPO'), None), (('here', 'RB'), None), (('yourself', 'PPL'), None), ((\"''\", \"''\"), None), ((',', ','), None), (('he', 'PPS'), None), (('said', 'VBD'), None), ((',', ','), None), (('frowning', 'VBG'), None), (('with', 'IN'), None), (('displeasure', 'NN'), None), (('.', '.'), None)], [(('Delphine', 'NP'), None), (('presented', 'VBD'), None), (('her', 'PP$'), None), (('cheek', 'NN'), None), (('for', 'IN'), None), (('a', 'AT'), None), (('kiss', 'NN'), None), ((',', ','), None), (('and', 'CC'), None), (('the', 'AT'), None), (('physician', 'NN'), None), (('pecked', 'VBD'), None), (('it', 'PPO'), None), (('like', 'CS'), None), (('a', 'AT'), None), (('timid', 'JJ'), None), (('rooster', 'NN'), None), (('.', '.'), None)], [(('``', '``'), None), (('Dandy', 'NP'), None), (('is', 'BEZ'), None), (('to', 'TO'), None), (('be', 'BE'), None), (('our', 'PP$'), None), (('house', 'NN'), None), (('guest', 'NN'), None), ((',', ','), None), (('Louis', 'NP'), None), (('.', '.'), None)], [(('I', 'PPSS'), None), (('want', 'VB'), None), (('the', 'AT'), None), (('room', 'NN'), None), (('in', 'IN'), None), (('the', 'AT'), None), (('attic', 'NN'), None), (('prepared', 'VBN'), None), (('for', 'IN'), None), (('him', 'PPO'), None), (('He', 'PPS'), None), (('is', 'BEZ'), None), (('a', 'AT'), None), (('most', 'QL'), None), (('unusual', 'JJ'), None), (('lad', 'NN'), None), ((',', ','), None), (('quite', 'QL'), None), (('precocious', 'JJ'), None), (('in', 'IN'), None), (('many', 'AP'), None), (('ways', 'NNS'), None), (('.', '.'), None)], [(('He', 'PPS'), None), (('deserves', 'VBZ'), None), (('a', 'AT'), None), (('better', 'JJR'), None), (('life', 'NN'), None), (('than', 'CS'), None), (('just', 'RB'), None), (('rotting', 'VBG'), None), (('away', 'RB'), None), (('on', 'IN'), None), (('the', 'AT'), None), (('Prieur', 'NP'), None), (('plantation', 'NN'), None), ((\"''\", \"''\"), None), (('.', '.'), None)], [(('``', '``'), None), (('Quite', 'QL'), None), (('so', 'RB'), None), ((',', ','), None), (('my', 'PP$'), None), (('dear', 'NN'), None), (('.', '.'), None)], [(('His', 'PP$'), None), (('room', 'NN'), None), (('will', 'MD'), None), (('be', 'BE'), None), (('ready', 'JJ'), None), (('shortly', 'RB'), None), ((\"''\", \"''\"), None), (('.', '.'), None)], [(('The', 'AT'), None), (('physician', 'NN'), None), (('led', 'VBD'), None), (('the', 'AT'), None), (('horses', 'NNS'), None), (('to', 'IN'), None), (('the', 'AT'), None), (('stable', 'NN'), None), (('after', 'CS'), None), (('a', 'AT'), None), (('cursory', 'JJ'), None), (('glance', 'NN'), None), (('at', 'IN'), None), (('the', 'AT'), None), (('cringing', 'VBG'), None), (('slave', 'NN'), None), (('.', '.'), None)], [(('Had', 'HVD'), None), (('Dandy', 'NP'), None), (('been', 'BEN'), None), (('older', 'JJR'), None), (('or', 'CC'), None), (('wiser', 'JJR'), None), ((',', ','), None), (('instinct', 'NN'), None), (('might', 'MD'), None), (('have', 'HV'), None), (('warned', 'VBN'), None), (('him', 'PPO'), None), (('that', 'CS'), None), (('he', 'PPS'), None), (('would', 'MD'), None), (('be', 'BE'), None), (('well', 'RB'), None), (('advised', 'VBN'), None), (('to', 'TO'), None), (('flee', 'VB'), None), (('from', 'IN'), None), (('the', 'AT'), None), ((\"Lalauries'\", 'NPS$'), None), (('tender', 'JJ'), None), (('care', 'NN'), None), (('if', 'CS'), None), (('he', 'PPS'), None), (('valued', 'VBD'), None), (('his', 'PP$'), None), (('life', 'NN'), None), (('.', '.'), None)], [(('But', 'CC'), None), (('he', 'PPS'), None), (('liked', 'VBD'), None), (('the', 'AT'), None), (('smell', 'NN'), None), (('of', 'IN'), None), ((\"Delphine's\", 'NP$'), None), (('perfume', 'NN'), None), (('.', '.'), None)], [(('Besides', 'RB'), None), ((',', ','), None), (('her', 'PP$'), None), (('endearments', 'NNS'), None), (('and', 'CC'), None), (('caresses', 'NNS'), None), (('in', 'IN'), None), (('the', 'AT'), None), (('carriage', 'NN'), None), (('had', 'HVD'), None), (('been', 'BEN'), None), (('new', 'JJ'), None), (('and', 'CC'), None), (('stirring', 'JJ'), None), (('experiences', 'NNS'), None), (('to', 'IN'), None), (('the', 'AT'), None), (('simple', 'JJ'), None), (('youth', 'NN'), None), (('.', '.'), None)], [(('Also', 'RB'), None), ((',', ','), None), (('he', 'PPS'), None), (('was', 'BEDZ'), None), (('weary', 'JJ'), None), (('of', 'IN'), None), (('plantation', 'NN'), None), (('drudgery', 'NN'), None), (('and', 'CC'), None), (('monotony', 'NN'), None), (('.', '.'), None)], [(('So', 'CS'), None), (('Dandy', 'NP'), None), (('Brandon', 'NP'), None), (('trustingly', 'RB'), None), (('entered', 'VBD'), None), (('the', 'AT'), None), (('house', 'NN'), None), (('with', 'IN'), None), (('Delphine', 'NP'), None), (('Lalaurie', 'NP'), None), (('and', 'CC'), None), (('trudged', 'VBD'), None), (('up', 'IN'), None), (('the', 'AT'), None), (('rear', 'JJ'), None), (('steps', 'NNS'), None), (('to', 'IN'), None), (('the', 'AT'), None), (('attic', 'NN'), None), (('room', 'NN'), None), (('which', 'WDT'), None), (('was', 'BEDZ'), None), (('to', 'TO'), None), (('be', 'BE'), None), (('his', 'PP$'), None), (('new', 'JJ'), None), (('home', 'NR'), None), (('.', '.'), None)]]\n",
      "Nltk's Unigram_tagger:  [[(('He', 'PPS'), None), (('was', 'BEDZ'), None), (('about', 'RB'), None), (('50', 'CD'), None), (('years', 'NNS'), None), (('old', 'JJ'), None), (('.', '.'), None)], [(('``', '``'), None), (('Another', 'DT'), None), (('young', 'JJ'), None), (('man', 'NN'), None), ((',', ','), None), (('my', 'PP$'), None), (('dear', 'NN'), None), (('?', '.'), None), (('?', '.'), None)], [(('Really', 'RB'), None), ((',', ','), None), (('you', 'PPSS'), None), (('are', 'BER'), None), (('most', 'QL'), None), (('indiscreet', 'JJ'), None), (('to', 'TO'), None), (('drive', 'VB'), None), (('him', 'PPO'), None), (('here', 'RB'), None), (('yourself', 'PPL'), None), ((\"''\", \"''\"), None), ((',', ','), None), (('he', 'PPS'), None), (('said', 'VBD'), None), ((',', ','), None), (('frowning', 'VBG'), None), (('with', 'IN'), None), (('displeasure', 'NN'), None), (('.', '.'), None)], [(('Delphine', 'NP'), None), (('presented', 'VBD'), None), (('her', 'PP$'), None), (('cheek', 'NN'), None), (('for', 'IN'), None), (('a', 'AT'), None), (('kiss', 'NN'), None), ((',', ','), None), (('and', 'CC'), None), (('the', 'AT'), None), (('physician', 'NN'), None), (('pecked', 'VBD'), None), (('it', 'PPO'), None), (('like', 'CS'), None), (('a', 'AT'), None), (('timid', 'JJ'), None), (('rooster', 'NN'), None), (('.', '.'), None)], [(('``', '``'), None), (('Dandy', 'NP'), None), (('is', 'BEZ'), None), (('to', 'TO'), None), (('be', 'BE'), None), (('our', 'PP$'), None), (('house', 'NN'), None), (('guest', 'NN'), None), ((',', ','), None), (('Louis', 'NP'), None), (('.', '.'), None)], [(('I', 'PPSS'), None), (('want', 'VB'), None), (('the', 'AT'), None), (('room', 'NN'), None), (('in', 'IN'), None), (('the', 'AT'), None), (('attic', 'NN'), None), (('prepared', 'VBN'), None), (('for', 'IN'), None), (('him', 'PPO'), None), (('He', 'PPS'), None), (('is', 'BEZ'), None), (('a', 'AT'), None), (('most', 'QL'), None), (('unusual', 'JJ'), None), (('lad', 'NN'), None), ((',', ','), None), (('quite', 'QL'), None), (('precocious', 'JJ'), None), (('in', 'IN'), None), (('many', 'AP'), None), (('ways', 'NNS'), None), (('.', '.'), None)], [(('He', 'PPS'), None), (('deserves', 'VBZ'), None), (('a', 'AT'), None), (('better', 'JJR'), None), (('life', 'NN'), None), (('than', 'CS'), None), (('just', 'RB'), None), (('rotting', 'VBG'), None), (('away', 'RB'), None), (('on', 'IN'), None), (('the', 'AT'), None), (('Prieur', 'NP'), None), (('plantation', 'NN'), None), ((\"''\", \"''\"), None), (('.', '.'), None)], [(('``', '``'), None), (('Quite', 'QL'), None), (('so', 'RB'), None), ((',', ','), None), (('my', 'PP$'), None), (('dear', 'NN'), None), (('.', '.'), None)], [(('His', 'PP$'), None), (('room', 'NN'), None), (('will', 'MD'), None), (('be', 'BE'), None), (('ready', 'JJ'), None), (('shortly', 'RB'), None), ((\"''\", \"''\"), None), (('.', '.'), None)], [(('The', 'AT'), None), (('physician', 'NN'), None), (('led', 'VBD'), None), (('the', 'AT'), None), (('horses', 'NNS'), None), (('to', 'IN'), None), (('the', 'AT'), None), (('stable', 'NN'), None), (('after', 'CS'), None), (('a', 'AT'), None), (('cursory', 'JJ'), None), (('glance', 'NN'), None), (('at', 'IN'), None), (('the', 'AT'), None), (('cringing', 'VBG'), None), (('slave', 'NN'), None), (('.', '.'), None)], [(('Had', 'HVD'), None), (('Dandy', 'NP'), None), (('been', 'BEN'), None), (('older', 'JJR'), None), (('or', 'CC'), None), (('wiser', 'JJR'), None), ((',', ','), None), (('instinct', 'NN'), None), (('might', 'MD'), None), (('have', 'HV'), None), (('warned', 'VBN'), None), (('him', 'PPO'), None), (('that', 'CS'), None), (('he', 'PPS'), None), (('would', 'MD'), None), (('be', 'BE'), None), (('well', 'RB'), None), (('advised', 'VBN'), None), (('to', 'TO'), None), (('flee', 'VB'), None), (('from', 'IN'), None), (('the', 'AT'), None), ((\"Lalauries'\", 'NPS$'), None), (('tender', 'JJ'), None), (('care', 'NN'), None), (('if', 'CS'), None), (('he', 'PPS'), None), (('valued', 'VBD'), None), (('his', 'PP$'), None), (('life', 'NN'), None), (('.', '.'), None)], [(('But', 'CC'), None), (('he', 'PPS'), None), (('liked', 'VBD'), None), (('the', 'AT'), None), (('smell', 'NN'), None), (('of', 'IN'), None), ((\"Delphine's\", 'NP$'), None), (('perfume', 'NN'), None), (('.', '.'), None)], [(('Besides', 'RB'), None), ((',', ','), None), (('her', 'PP$'), None), (('endearments', 'NNS'), None), (('and', 'CC'), None), (('caresses', 'NNS'), None), (('in', 'IN'), None), (('the', 'AT'), None), (('carriage', 'NN'), None), (('had', 'HVD'), None), (('been', 'BEN'), None), (('new', 'JJ'), None), (('and', 'CC'), None), (('stirring', 'JJ'), None), (('experiences', 'NNS'), None), (('to', 'IN'), None), (('the', 'AT'), None), (('simple', 'JJ'), None), (('youth', 'NN'), None), (('.', '.'), None)], [(('Also', 'RB'), None), ((',', ','), None), (('he', 'PPS'), None), (('was', 'BEDZ'), None), (('weary', 'JJ'), None), (('of', 'IN'), None), (('plantation', 'NN'), None), (('drudgery', 'NN'), None), (('and', 'CC'), None), (('monotony', 'NN'), None), (('.', '.'), None)], [(('So', 'CS'), None), (('Dandy', 'NP'), None), (('Brandon', 'NP'), None), (('trustingly', 'RB'), None), (('entered', 'VBD'), None), (('the', 'AT'), None), (('house', 'NN'), None), (('with', 'IN'), None), (('Delphine', 'NP'), None), (('Lalaurie', 'NP'), None), (('and', 'CC'), None), (('trudged', 'VBD'), None), (('up', 'IN'), None), (('the', 'AT'), None), (('rear', 'JJ'), None), (('steps', 'NNS'), None), (('to', 'IN'), None), (('the', 'AT'), None), (('attic', 'NN'), None), (('room', 'NN'), None), (('which', 'WDT'), None), (('was', 'BEDZ'), None), (('to', 'TO'), None), (('be', 'BE'), None), (('his', 'PP$'), None), (('new', 'JJ'), None), (('home', 'NR'), None), (('.', '.'), None)]]\n",
      "Are they equal?  True\n"
     ]
    }
   ],
   "source": [
    "show_some = 15 # We will want to watch just first few tagged \n",
    "simple_test = t.tag_sents(test_set)\n",
    "unigram_test = t1.tag_sents(test_set)\n",
    "print(\"Our new tagger: \" , simple_test[:show_some])\n",
    "print(\"Nltk's Unigram_tagger: \", unigram_test[:show_some])\n",
    "print(\"Are they equal? \", simple_test == unigram_test)"
   ]
  },
  {
   "cell_type": "code",
   "execution_count": 110,
   "metadata": {
    "collapsed": false
   },
   "outputs": [],
   "source": [
    "\n",
    "#t1 = nltk.UnigramTagger(train_set[:10])"
   ]
  },
  {
   "cell_type": "code",
   "execution_count": 100,
   "metadata": {
    "collapsed": true
   },
   "outputs": [],
   "source": []
  },
  {
   "cell_type": "code",
   "execution_count": null,
   "metadata": {
    "collapsed": false
   },
   "outputs": [],
   "source": []
  },
  {
   "cell_type": "code",
   "execution_count": null,
   "metadata": {
    "collapsed": true
   },
   "outputs": [],
   "source": []
  }
 ],
 "metadata": {
  "kernelspec": {
   "display_name": "Python 3",
   "language": "python",
   "name": "python3"
  },
  "language_info": {
   "codemirror_mode": {
    "name": "ipython",
    "version": 3
   },
   "file_extension": ".py",
   "mimetype": "text/x-python",
   "name": "python",
   "nbconvert_exporter": "python",
   "pygments_lexer": "ipython3",
   "version": "3.5.0"
  }
 },
 "nbformat": 4,
 "nbformat_minor": 0
}
